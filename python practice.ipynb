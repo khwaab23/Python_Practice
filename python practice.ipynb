{
 "cells": [
  {
   "cell_type": "code",
   "execution_count": 1,
   "id": "c146465d",
   "metadata": {},
   "outputs": [
    {
     "name": "stdout",
     "output_type": "stream",
     "text": [
      "10\n"
     ]
    }
   ],
   "source": [
    "a=10\n",
    "b=3.124\n",
    "c=10+5j\n",
    "print(a)"
   ]
  },
  {
   "cell_type": "code",
   "execution_count": 2,
   "id": "b26142f5",
   "metadata": {},
   "outputs": [
    {
     "name": "stdout",
     "output_type": "stream",
     "text": [
      "3 10.0 (10+5j)\n"
     ]
    }
   ],
   "source": [
    "print(int(b),float(a),str(c))"
   ]
  },
  {
   "cell_type": "code",
   "execution_count": 3,
   "id": "091a35e6",
   "metadata": {},
   "outputs": [
    {
     "name": "stdout",
     "output_type": "stream",
     "text": [
      "16\n"
     ]
    }
   ],
   "source": [
    "s=lambda x: x*x\n",
    "print(s(4))"
   ]
  },
  {
   "cell_type": "code",
   "execution_count": 4,
   "id": "73fb1b17",
   "metadata": {},
   "outputs": [
    {
     "name": "stdout",
     "output_type": "stream",
     "text": [
      "5\n"
     ]
    }
   ],
   "source": [
    "s1=lambda x,y:x+y\n",
    "print(s1(2,3))"
   ]
  },
  {
   "cell_type": "code",
   "execution_count": 5,
   "id": "d6b540bd",
   "metadata": {},
   "outputs": [],
   "source": [
    "# s=map(list(int,input().split())) "
   ]
  },
  {
   "cell_type": "code",
   "execution_count": 6,
   "id": "0a64784e",
   "metadata": {},
   "outputs": [
    {
     "data": {
      "text/plain": [
       "[1, 2.3, 'hello']"
      ]
     },
     "execution_count": 6,
     "metadata": {},
     "output_type": "execute_result"
    }
   ],
   "source": [
    "mylist=[1,2.3,\"hello\"]\n",
    "mylist"
   ]
  },
  {
   "cell_type": "code",
   "execution_count": 7,
   "id": "2cd79fa8",
   "metadata": {},
   "outputs": [
    {
     "data": {
      "text/plain": [
       "(1, 2.3, 'hello')"
      ]
     },
     "execution_count": 7,
     "metadata": {},
     "output_type": "execute_result"
    }
   ],
   "source": [
    "mytuple=(1,2.3,\"hello\")\n",
    "mytuple"
   ]
  },
  {
   "cell_type": "code",
   "execution_count": 8,
   "id": "73e81373",
   "metadata": {},
   "outputs": [
    {
     "data": {
      "text/plain": [
       "{'name': 'khwaab', 'age': 22, 'email': 'Khwaabthareja23@gmail.com'}"
      ]
     },
     "execution_count": 8,
     "metadata": {},
     "output_type": "execute_result"
    }
   ],
   "source": [
    "mydict={\n",
    "    \"name\":\"khwaab\",\n",
    "    \"age\": 22,\n",
    "    \"email\":\"Khwaabthareja23@gmail.com\"\n",
    "}\n",
    "mydict"
   ]
  },
  {
   "cell_type": "code",
   "execution_count": 9,
   "id": "c521c3d5",
   "metadata": {},
   "outputs": [
    {
     "data": {
      "text/plain": [
       "{1, 2, 3, 4, 5}"
      ]
     },
     "execution_count": 9,
     "metadata": {},
     "output_type": "execute_result"
    }
   ],
   "source": [
    "s=set([1,2,2,3,4,4,5])\n",
    "s"
   ]
  },
  {
   "cell_type": "code",
   "execution_count": 10,
   "id": "41e15fcc",
   "metadata": {},
   "outputs": [
    {
     "data": {
      "text/plain": [
       "{1, 2, 3, 4, 5, 6, 7}"
      ]
     },
     "execution_count": 10,
     "metadata": {},
     "output_type": "execute_result"
    }
   ],
   "source": [
    "s1={1,2,3,4,5,5,5,6,7,7}\n",
    "s1"
   ]
  },
  {
   "cell_type": "code",
   "execution_count": 2,
   "id": "e6358e03",
   "metadata": {},
   "outputs": [
    {
     "name": "stdout",
     "output_type": "stream",
     "text": [
      "hello world\n",
      "['hello', 'world']\n"
     ]
    }
   ],
   "source": [
    "w=input().split()\n",
    "print(w)"
   ]
  },
  {
   "cell_type": "code",
   "execution_count": 3,
   "id": "9d2be584",
   "metadata": {},
   "outputs": [
    {
     "name": "stdout",
     "output_type": "stream",
     "text": [
      "1 2 3 4 5\n"
     ]
    }
   ],
   "source": [
    "i=list(map(int,input().split()))"
   ]
  },
  {
   "cell_type": "code",
   "execution_count": 4,
   "id": "2db68f86",
   "metadata": {},
   "outputs": [
    {
     "name": "stdout",
     "output_type": "stream",
     "text": [
      "[1, 2, 3, 4, 5]\n"
     ]
    }
   ],
   "source": [
    "print(i)"
   ]
  },
  {
   "cell_type": "code",
   "execution_count": 6,
   "id": "8c685f89",
   "metadata": {},
   "outputs": [
    {
     "name": "stdout",
     "output_type": "stream",
     "text": [
      "abc\n"
     ]
    }
   ],
   "source": [
    "b=[\"a\",\"b\",\"c\"]\n",
    "a=\"\".join(b)\n",
    "print(a)"
   ]
  },
  {
   "cell_type": "code",
   "execution_count": 8,
   "id": "916556ce",
   "metadata": {},
   "outputs": [
    {
     "name": "stdout",
     "output_type": "stream",
     "text": [
      "20\n",
      "40\n",
      "60\n",
      "80\n"
     ]
    }
   ],
   "source": [
    "l1=map(lambda x:x*2,[10,20,30,40])\n",
    "for i in l1:\n",
    "    print(i)"
   ]
  },
  {
   "cell_type": "code",
   "execution_count": 10,
   "id": "92a03774",
   "metadata": {},
   "outputs": [
    {
     "name": "stdout",
     "output_type": "stream",
     "text": [
      "2\n",
      "4\n",
      "20\n"
     ]
    }
   ],
   "source": [
    "s1=filter(lambda x:x%2==0,[1,2,4,20,21,23])\n",
    "for i in s1:\n",
    "    print(i)"
   ]
  },
  {
   "cell_type": "code",
   "execution_count": 11,
   "id": "176763f7",
   "metadata": {},
   "outputs": [
    {
     "data": {
      "text/plain": [
       "<filter at 0x7fdda9521070>"
      ]
     },
     "execution_count": 11,
     "metadata": {},
     "output_type": "execute_result"
    }
   ],
   "source": [
    "s1"
   ]
  },
  {
   "cell_type": "code",
   "execution_count": 12,
   "id": "e4d5248c",
   "metadata": {},
   "outputs": [],
   "source": [
    "l=[1,2,3,4,5,6,7]"
   ]
  },
  {
   "cell_type": "code",
   "execution_count": 13,
   "id": "ff780603",
   "metadata": {},
   "outputs": [
    {
     "data": {
      "text/plain": [
       "[1, 2, 3, 4, 5, 6, 7, 8]"
      ]
     },
     "execution_count": 13,
     "metadata": {},
     "output_type": "execute_result"
    }
   ],
   "source": [
    "l.append(8)\n",
    "l"
   ]
  },
  {
   "cell_type": "code",
   "execution_count": 14,
   "id": "d9c94100",
   "metadata": {},
   "outputs": [],
   "source": [
    "l.clear()"
   ]
  },
  {
   "cell_type": "code",
   "execution_count": 15,
   "id": "20c5c6d6",
   "metadata": {},
   "outputs": [
    {
     "data": {
      "text/plain": [
       "[]"
      ]
     },
     "execution_count": 15,
     "metadata": {},
     "output_type": "execute_result"
    }
   ],
   "source": [
    "l"
   ]
  },
  {
   "cell_type": "code",
   "execution_count": 16,
   "id": "a9b59d3e",
   "metadata": {},
   "outputs": [],
   "source": [
    "for i in range(8):\n",
    "    l.append(i)"
   ]
  },
  {
   "cell_type": "code",
   "execution_count": 17,
   "id": "1f7ef0f2",
   "metadata": {},
   "outputs": [
    {
     "data": {
      "text/plain": [
       "[0, 1, 2, 3, 4, 5, 6, 7]"
      ]
     },
     "execution_count": 17,
     "metadata": {},
     "output_type": "execute_result"
    }
   ],
   "source": [
    "l"
   ]
  },
  {
   "cell_type": "code",
   "execution_count": 18,
   "id": "fb3b37cd",
   "metadata": {},
   "outputs": [],
   "source": [
    "s=l.copy()"
   ]
  },
  {
   "cell_type": "code",
   "execution_count": 19,
   "id": "24ed72cf",
   "metadata": {},
   "outputs": [
    {
     "data": {
      "text/plain": [
       "[0, 1, 2, 3, 4, 5, 6, 7]"
      ]
     },
     "execution_count": 19,
     "metadata": {},
     "output_type": "execute_result"
    }
   ],
   "source": [
    "s"
   ]
  },
  {
   "cell_type": "code",
   "execution_count": 20,
   "id": "87de2fe3",
   "metadata": {},
   "outputs": [
    {
     "data": {
      "text/plain": [
       "False"
      ]
     },
     "execution_count": 20,
     "metadata": {},
     "output_type": "execute_result"
    }
   ],
   "source": [
    "s is l"
   ]
  },
  {
   "cell_type": "code",
   "execution_count": 21,
   "id": "010b53fe",
   "metadata": {},
   "outputs": [
    {
     "data": {
      "text/plain": [
       "[0, 1, 2, 3, 4, 5, 6, 7]"
      ]
     },
     "execution_count": 21,
     "metadata": {},
     "output_type": "execute_result"
    }
   ],
   "source": [
    "y=l\n",
    "y"
   ]
  },
  {
   "cell_type": "code",
   "execution_count": 22,
   "id": "5a315597",
   "metadata": {},
   "outputs": [],
   "source": [
    "y.append(9)"
   ]
  },
  {
   "cell_type": "code",
   "execution_count": 23,
   "id": "64fe3c47",
   "metadata": {},
   "outputs": [
    {
     "data": {
      "text/plain": [
       "[0, 1, 2, 3, 4, 5, 6, 7, 9]"
      ]
     },
     "execution_count": 23,
     "metadata": {},
     "output_type": "execute_result"
    }
   ],
   "source": [
    "l"
   ]
  },
  {
   "cell_type": "code",
   "execution_count": 24,
   "id": "8045ba6a",
   "metadata": {},
   "outputs": [
    {
     "data": {
      "text/plain": [
       "[10, 11, 12, 13, 0, 1, 2, 3, 4, 5, 6, 7, 9]"
      ]
     },
     "execution_count": 24,
     "metadata": {},
     "output_type": "execute_result"
    }
   ],
   "source": [
    "l1=[10,11,12,13]\n",
    "l1.extend(l)\n",
    "l1"
   ]
  },
  {
   "cell_type": "code",
   "execution_count": 25,
   "id": "89565e89",
   "metadata": {},
   "outputs": [],
   "source": [
    "l1.sort()"
   ]
  },
  {
   "cell_type": "code",
   "execution_count": 26,
   "id": "7d880ab7",
   "metadata": {},
   "outputs": [
    {
     "data": {
      "text/plain": [
       "[0, 1, 2, 3, 4, 5, 6, 7, 9, 10, 11, 12, 13]"
      ]
     },
     "execution_count": 26,
     "metadata": {},
     "output_type": "execute_result"
    }
   ],
   "source": [
    "l1"
   ]
  },
  {
   "cell_type": "code",
   "execution_count": 27,
   "id": "73076c62",
   "metadata": {},
   "outputs": [
    {
     "data": {
      "text/plain": [
       "3"
      ]
     },
     "execution_count": 27,
     "metadata": {},
     "output_type": "execute_result"
    }
   ],
   "source": [
    "x=15\n",
    "y=5\n",
    "x//y"
   ]
  },
  {
   "cell_type": "code",
   "execution_count": 33,
   "id": "cfb23a1b",
   "metadata": {},
   "outputs": [
    {
     "data": {
      "text/plain": [
       "15"
      ]
     },
     "execution_count": 33,
     "metadata": {},
     "output_type": "execute_result"
    }
   ],
   "source": [
    "x=5\n",
    "x*=3\n",
    "x"
   ]
  },
  {
   "cell_type": "code",
   "execution_count": 30,
   "id": "032db164",
   "metadata": {},
   "outputs": [
    {
     "data": {
      "text/plain": [
       "False"
      ]
     },
     "execution_count": 30,
     "metadata": {},
     "output_type": "execute_result"
    }
   ],
   "source": [
    "x=5\n",
    "y=3\n",
    "x==y"
   ]
  },
  {
   "cell_type": "code",
   "execution_count": 31,
   "id": "053e18e1",
   "metadata": {},
   "outputs": [
    {
     "data": {
      "text/plain": [
       "False"
      ]
     },
     "execution_count": 31,
     "metadata": {},
     "output_type": "execute_result"
    }
   ],
   "source": [
    "x=[1,2]\n",
    "y=[1,2]\n",
    "x is y"
   ]
  },
  {
   "cell_type": "code",
   "execution_count": 32,
   "id": "72e22e03",
   "metadata": {},
   "outputs": [
    {
     "data": {
      "text/plain": [
       "True"
      ]
     },
     "execution_count": 32,
     "metadata": {},
     "output_type": "execute_result"
    }
   ],
   "source": [
    "z=x\n",
    "z is x"
   ]
  },
  {
   "cell_type": "code",
   "execution_count": 34,
   "id": "49675f08",
   "metadata": {},
   "outputs": [
    {
     "data": {
      "text/plain": [
       "True"
      ]
     },
     "execution_count": 34,
     "metadata": {},
     "output_type": "execute_result"
    }
   ],
   "source": [
    "l2=[1,2,3,4,5,6]\n",
    "6 in l2"
   ]
  },
  {
   "cell_type": "code",
   "execution_count": 35,
   "id": "2ca312a7",
   "metadata": {},
   "outputs": [
    {
     "data": {
      "text/plain": [
       "False"
      ]
     },
     "execution_count": 35,
     "metadata": {},
     "output_type": "execute_result"
    }
   ],
   "source": [
    "7 in l2"
   ]
  },
  {
   "cell_type": "code",
   "execution_count": 36,
   "id": "9a84c479",
   "metadata": {},
   "outputs": [
    {
     "data": {
      "text/plain": [
       "True"
      ]
     },
     "execution_count": 36,
     "metadata": {},
     "output_type": "execute_result"
    }
   ],
   "source": [
    "7 not in l2"
   ]
  },
  {
   "cell_type": "code",
   "execution_count": 37,
   "id": "0d605cba",
   "metadata": {},
   "outputs": [
    {
     "data": {
      "text/plain": [
       "9"
      ]
     },
     "execution_count": 37,
     "metadata": {},
     "output_type": "execute_result"
    }
   ],
   "source": [
    "l1.index(10)"
   ]
  },
  {
   "cell_type": "code",
   "execution_count": 38,
   "id": "1f8e0145",
   "metadata": {},
   "outputs": [
    {
     "data": {
      "text/plain": [
       "['khwaab', 0, 1, 2, 3, 4, 5, 6, 7, 9, 10, 11, 12, 13]"
      ]
     },
     "execution_count": 38,
     "metadata": {},
     "output_type": "execute_result"
    }
   ],
   "source": [
    "l1.insert(0,\"khwaab\")\n",
    "l1"
   ]
  },
  {
   "cell_type": "code",
   "execution_count": 39,
   "id": "10b056d3",
   "metadata": {},
   "outputs": [
    {
     "data": {
      "text/plain": [
       "<function list.pop(index=-1, /)>"
      ]
     },
     "execution_count": 39,
     "metadata": {},
     "output_type": "execute_result"
    }
   ],
   "source": [
    "l1.pop"
   ]
  },
  {
   "cell_type": "code",
   "execution_count": 40,
   "id": "b7e6bae8",
   "metadata": {},
   "outputs": [
    {
     "data": {
      "text/plain": [
       "['khwaab', 0, 1, 2, 3, 4, 5, 6, 7, 9, 10, 11, 12, 13]"
      ]
     },
     "execution_count": 40,
     "metadata": {},
     "output_type": "execute_result"
    }
   ],
   "source": [
    "l1"
   ]
  },
  {
   "cell_type": "code",
   "execution_count": 41,
   "id": "0d20c219",
   "metadata": {},
   "outputs": [
    {
     "data": {
      "text/plain": [
       "13"
      ]
     },
     "execution_count": 41,
     "metadata": {},
     "output_type": "execute_result"
    }
   ],
   "source": [
    "l1.pop()"
   ]
  },
  {
   "cell_type": "code",
   "execution_count": 42,
   "id": "2839eba7",
   "metadata": {},
   "outputs": [
    {
     "data": {
      "text/plain": [
       "['khwaab', 0, 1, 2, 3, 4, 5, 6, 7, 9, 10, 11, 12]"
      ]
     },
     "execution_count": 42,
     "metadata": {},
     "output_type": "execute_result"
    }
   ],
   "source": [
    "l1"
   ]
  },
  {
   "cell_type": "code",
   "execution_count": 43,
   "id": "96e37cb5",
   "metadata": {},
   "outputs": [
    {
     "data": {
      "text/plain": [
       "'khwaab'"
      ]
     },
     "execution_count": 43,
     "metadata": {},
     "output_type": "execute_result"
    }
   ],
   "source": [
    "l1.pop(0)"
   ]
  },
  {
   "cell_type": "code",
   "execution_count": 45,
   "id": "d1b9a3e2",
   "metadata": {},
   "outputs": [
    {
     "data": {
      "text/plain": [
       "[0, 1, 2, 3, 4, 5, 6, 7, 8, 8, 9, 10, 11, 12]"
      ]
     },
     "execution_count": 45,
     "metadata": {},
     "output_type": "execute_result"
    }
   ],
   "source": [
    "l1.append(8)\n",
    "l1.sort()\n",
    "l1"
   ]
  },
  {
   "cell_type": "code",
   "execution_count": 46,
   "id": "4ba40f2e",
   "metadata": {},
   "outputs": [],
   "source": [
    " l1.remove(0)"
   ]
  },
  {
   "cell_type": "code",
   "execution_count": 47,
   "id": "8261caf5",
   "metadata": {},
   "outputs": [
    {
     "data": {
      "text/plain": [
       "[1, 2, 3, 4, 5, 6, 7, 8, 8, 9, 10, 11, 12]"
      ]
     },
     "execution_count": 47,
     "metadata": {},
     "output_type": "execute_result"
    }
   ],
   "source": [
    "l1"
   ]
  },
  {
   "cell_type": "code",
   "execution_count": 48,
   "id": "94a010da",
   "metadata": {},
   "outputs": [
    {
     "data": {
      "text/plain": [
       "[12, 11, 10, 9, 8, 8, 7, 6, 5, 4, 3, 2, 1]"
      ]
     },
     "execution_count": 48,
     "metadata": {},
     "output_type": "execute_result"
    }
   ],
   "source": [
    "l1.reverse()\n",
    "l1"
   ]
  },
  {
   "cell_type": "code",
   "execution_count": 49,
   "id": "c5780939",
   "metadata": {},
   "outputs": [],
   "source": [
    "l1.sort()"
   ]
  },
  {
   "cell_type": "code",
   "execution_count": 50,
   "id": "9fb1d1ef",
   "metadata": {},
   "outputs": [
    {
     "data": {
      "text/plain": [
       "[1, 2, 3, 4, 5, 6, 7, 8, 8, 9, 10, 11, 12]"
      ]
     },
     "execution_count": 50,
     "metadata": {},
     "output_type": "execute_result"
    }
   ],
   "source": [
    "l1"
   ]
  },
  {
   "cell_type": "code",
   "execution_count": 51,
   "id": "a847e642",
   "metadata": {},
   "outputs": [
    {
     "name": "stdout",
     "output_type": "stream",
     "text": [
      "k\n",
      "h\n",
      "w\n",
      "a\n",
      "a\n",
      "b\n"
     ]
    }
   ],
   "source": [
    "for i in \"khwaab\":\n",
    "    print(i)"
   ]
  },
  {
   "cell_type": "code",
   "execution_count": 52,
   "id": "2b574657",
   "metadata": {},
   "outputs": [
    {
     "name": "stdout",
     "output_type": "stream",
     "text": [
      "khwaab\n",
      "baawhk\n"
     ]
    }
   ],
   "source": [
    "print(input()[::-1])"
   ]
  },
  {
   "cell_type": "code",
   "execution_count": 55,
   "id": "eea1550e",
   "metadata": {},
   "outputs": [
    {
     "name": "stdout",
     "output_type": "stream",
     "text": [
      "My name is khwaab\n"
     ]
    }
   ],
   "source": [
    "def myname(fname):\n",
    "    return \"My name is \"+ fname\n",
    "print(myname(\"khwaab\"))"
   ]
  },
  {
   "cell_type": "code",
   "execution_count": 57,
   "id": "9eb72db7",
   "metadata": {},
   "outputs": [
    {
     "name": "stdout",
     "output_type": "stream",
     "text": [
      "python version\n",
      "3.9.7 (default, Sep 16 2021, 08:50:36) \n",
      "[Clang 10.0.0 ]\n"
     ]
    }
   ],
   "source": [
    "import sys\n",
    "print(\"python version\")\n",
    "print(sys.version)"
   ]
  },
  {
   "cell_type": "code",
   "execution_count": 58,
   "id": "b6750709",
   "metadata": {},
   "outputs": [
    {
     "name": "stdout",
     "output_type": "stream",
     "text": [
      "2022-02-07\n"
     ]
    }
   ],
   "source": [
    "from datetime import date\n",
    "today=date.today()\n",
    "print(today)"
   ]
  },
  {
   "cell_type": "code",
   "execution_count": 60,
   "id": "ddf23f8b",
   "metadata": {},
   "outputs": [
    {
     "name": "stdout",
     "output_type": "stream",
     "text": [
      "2022-02-07 14:42:44.829858\n"
     ]
    }
   ],
   "source": [
    "import datetime\n",
    "now=datetime.datetime.now()\n",
    "print(now)"
   ]
  },
  {
   "cell_type": "code",
   "execution_count": 63,
   "id": "22391bb5",
   "metadata": {},
   "outputs": [],
   "source": [
    "f=open(\"newfile10.txt\",\"w\")\n",
    "f.write(\"hello i am khwaab\")\n",
    "f.close()"
   ]
  },
  {
   "cell_type": "code",
   "execution_count": 64,
   "id": "d5d0209a",
   "metadata": {},
   "outputs": [],
   "source": [
    "with open(\"newfile10.txt\",\"w\") as f:\n",
    "    f.write(\"hi i am back\")\n",
    "    f.close()"
   ]
  },
  {
   "cell_type": "code",
   "execution_count": 65,
   "id": "49de6e5a",
   "metadata": {},
   "outputs": [],
   "source": [
    "with open(\"newfile10.txt\",\"a\") as f:\n",
    "    f.write(\"hi i am back again\")\n",
    "    f.close()"
   ]
  },
  {
   "cell_type": "code",
   "execution_count": 2,
   "id": "ca115a91",
   "metadata": {},
   "outputs": [
    {
     "name": "stdout",
     "output_type": "stream",
     "text": [
      "[12  3  4  5  6  7]\n"
     ]
    }
   ],
   "source": [
    "import numpy as np\n",
    "l=[12,3,4,5,6,7]\n",
    "arr=np.array(l)\n",
    "print(arr)"
   ]
  },
  {
   "cell_type": "code",
   "execution_count": 3,
   "id": "86a3b0df",
   "metadata": {},
   "outputs": [
    {
     "name": "stdout",
     "output_type": "stream",
     "text": [
      "[ 0  2  4  6  8 10]\n"
     ]
    }
   ],
   "source": [
    "arr=np.arange(0,11,2)\n",
    "print(arr)"
   ]
  },
  {
   "cell_type": "code",
   "execution_count": 4,
   "id": "b717f24a",
   "metadata": {},
   "outputs": [
    {
     "name": "stdout",
     "output_type": "stream",
     "text": [
      "[[1 2 3]\n",
      " [4 5 6]\n",
      " [7 8 9]]\n"
     ]
    }
   ],
   "source": [
    "mat=np.array([[1,2,3],[4,5,6],[7,8,9]])\n",
    "print(mat)"
   ]
  },
  {
   "cell_type": "code",
   "execution_count": 5,
   "id": "d8baae94",
   "metadata": {},
   "outputs": [
    {
     "data": {
      "text/plain": [
       "array([[1, 2, 3],\n",
       "       [4, 5, 6],\n",
       "       [7, 8, 9]])"
      ]
     },
     "execution_count": 5,
     "metadata": {},
     "output_type": "execute_result"
    }
   ],
   "source": [
    "mat"
   ]
  },
  {
   "cell_type": "code",
   "execution_count": 7,
   "id": "2d2d9591",
   "metadata": {},
   "outputs": [
    {
     "name": "stdout",
     "output_type": "stream",
     "text": [
      "2\n",
      "246\n"
     ]
    }
   ],
   "source": [
    "compute=lambda x,y,z:x+y+z\n",
    "x=int(input())\n",
    "print(compute(x,10*x+x,100*x+10*x+x))"
   ]
  },
  {
   "cell_type": "code",
   "execution_count": 8,
   "id": "51862c5b",
   "metadata": {},
   "outputs": [
    {
     "name": "stdout",
     "output_type": "stream",
     "text": [
      "white purple\n"
     ]
    }
   ],
   "source": [
    "colors=[\"white\",\"black\",\"red\",\"blue\",\"green\",\"purple\"]\n",
    "print(colors[0],colors[-1])"
   ]
  },
  {
   "cell_type": "code",
   "execution_count": 23,
   "id": "6bc5f321",
   "metadata": {},
   "outputs": [
    {
     "name": "stdout",
     "output_type": "stream",
     "text": [
      "exam is on: 2022-02-08\n"
     ]
    }
   ],
   "source": [
    "from datetime import date,timedelta\n",
    "t = date.today()+timedelta(1)\n",
    "print(\"exam date:\", t)"
   ]
  },
  {
   "cell_type": "code",
   "execution_count": 2,
   "id": "6ca6d4e6",
   "metadata": {},
   "outputs": [
    {
     "name": "stdout",
     "output_type": "stream",
     "text": [
      "hello.txt\n",
      "txt\n"
     ]
    }
   ],
   "source": [
    "filename=input()\n",
    "x=filename.split(\".\")\n",
    "print(x[1])"
   ]
  },
  {
   "cell_type": "code",
   "execution_count": null,
   "id": "fa7cb40a",
   "metadata": {},
   "outputs": [],
   "source": [
    "print(input().split(\".\")[-1])"
   ]
  },
  {
   "cell_type": "code",
   "execution_count": null,
   "id": "be4b08fc",
   "metadata": {},
   "outputs": [],
   "source": [
    "# array zeros ones eye"
   ]
  },
  {
   "cell_type": "code",
   "execution_count": 3,
   "id": "650ae70c",
   "metadata": {},
   "outputs": [
    {
     "name": "stdout",
     "output_type": "stream",
     "text": [
      "[[1. 0. 0. 0.]\n",
      " [0. 1. 0. 0.]\n",
      " [0. 0. 1. 0.]\n",
      " [0. 0. 0. 1.]]\n"
     ]
    }
   ],
   "source": [
    "print(np.eye(4))"
   ]
  },
  {
   "cell_type": "code",
   "execution_count": 4,
   "id": "456e2404",
   "metadata": {},
   "outputs": [
    {
     "name": "stdout",
     "output_type": "stream",
     "text": [
      "[[0. 0. 0. 0.]\n",
      " [0. 0. 0. 0.]]\n"
     ]
    }
   ],
   "source": [
    "print(np.zeros((2,4)))"
   ]
  },
  {
   "cell_type": "code",
   "execution_count": 8,
   "id": "39852208",
   "metadata": {},
   "outputs": [
    {
     "name": "stdout",
     "output_type": "stream",
     "text": [
      "hi khwaab\n",
      "bye\n"
     ]
    }
   ],
   "source": [
    "class dog:\n",
    "    a=\"khwaab\"\n",
    "    b=\"bye\"\n",
    "    def intro(self):\n",
    "        print(\"hi\",self.a)\n",
    "\n",
    "Tommy=dog()\n",
    "Tommy.intro()\n",
    "print(Tommy.b)\n",
    "\n"
   ]
  },
  {
   "cell_type": "code",
   "execution_count": 9,
   "id": "0856ff16",
   "metadata": {},
   "outputs": [
    {
     "data": {
      "text/plain": [
       "1.4142135623730951"
      ]
     },
     "execution_count": 9,
     "metadata": {},
     "output_type": "execute_result"
    }
   ],
   "source": [
    "abs(1+1j)"
   ]
  },
  {
   "cell_type": "code",
   "execution_count": 10,
   "id": "9cced024",
   "metadata": {},
   "outputs": [
    {
     "name": "stdout",
     "output_type": "stream",
     "text": [
      "False\n"
     ]
    }
   ],
   "source": [
    "k=[0,False]\n",
    "print(all(k))"
   ]
  },
  {
   "cell_type": "code",
   "execution_count": 11,
   "id": "23865650",
   "metadata": {},
   "outputs": [
    {
     "name": "stdout",
     "output_type": "stream",
     "text": [
      "True\n"
     ]
    }
   ],
   "source": [
    "k=[]\n",
    "print(all(k))"
   ]
  },
  {
   "cell_type": "code",
   "execution_count": 12,
   "id": "b2b14473",
   "metadata": {},
   "outputs": [
    {
     "name": "stdout",
     "output_type": "stream",
     "text": [
      "0b1010\n"
     ]
    }
   ],
   "source": [
    "x=10\n",
    "y=bin(x)\n",
    "print(y)"
   ]
  },
  {
   "cell_type": "code",
   "execution_count": 13,
   "id": "ba9c962e",
   "metadata": {},
   "outputs": [
    {
     "name": "stdout",
     "output_type": "stream",
     "text": [
      "True\n",
      "False\n"
     ]
    }
   ],
   "source": [
    "x=9\n",
    "exec(\"print(x==9)\")\n",
    "exec(\"print(x<3)\")"
   ]
  },
  {
   "cell_type": "code",
   "execution_count": 14,
   "id": "57256760",
   "metadata": {},
   "outputs": [
    {
     "name": "stdout",
     "output_type": "stream",
     "text": [
      "True\n"
     ]
    }
   ],
   "source": [
    "l=[1,2,3,4]\n",
    "print(all(l))"
   ]
  },
  {
   "cell_type": "code",
   "execution_count": 15,
   "id": "8d422e9d",
   "metadata": {},
   "outputs": [
    {
     "name": "stdout",
     "output_type": "stream",
     "text": [
      "True\n"
     ]
    }
   ],
   "source": [
    "l1=[False,1]\n",
    "print(any(l1))"
   ]
  },
  {
   "cell_type": "code",
   "execution_count": 18,
   "id": "0879c1b5",
   "metadata": {},
   "outputs": [
    {
     "name": "stdout",
     "output_type": "stream",
     "text": [
      "28\n",
      "11100\n",
      "28.550000\n"
     ]
    }
   ],
   "source": [
    "#format function\n",
    "\n",
    "print(format(28,\"d\"))\n",
    "print(format(28,\"b\"))\n",
    "print(format(28.55,\"f\"))"
   ]
  },
  {
   "cell_type": "code",
   "execution_count": 19,
   "id": "d2cf8f98",
   "metadata": {},
   "outputs": [
    {
     "name": "stdout",
     "output_type": "stream",
     "text": [
      "[[1.00000000e+00 1.11022302e-16]\n",
      " [0.00000000e+00 1.00000000e+00]]\n"
     ]
    }
   ],
   "source": [
    "import numpy as np\n",
    "x=[[1,2],[3,4]]\n",
    "y=np.linalg.inv(x)\n",
    "answer=np.dot(x,y)\n",
    "print(answer)"
   ]
  },
  {
   "cell_type": "code",
   "execution_count": 2,
   "id": "fd27f189",
   "metadata": {},
   "outputs": [
    {
     "name": "stdout",
     "output_type": "stream",
     "text": [
      "Enter the numbers for the list: 1 2 3 4 5 6\n",
      "Ans1. Max number from the list is:  6\n",
      "\n",
      "Enter the numbers you want the sum for:  1 2 3 4 5\n",
      "Ans2. Sum of the numers is:  15\n",
      "\n",
      "Enter the numbers you want the product for:  1 2 3 4 5\n",
      "Ans3. Multiplication of all numbers is  120\n",
      "\n",
      "enter the string: khwaab thareja\n",
      "Ans4. The reverse of string khwaab thareja is: ajeraht baawhk\n",
      "\n",
      "Ans 5.\n",
      "Enter the number you want the factorial of: 6\n",
      "Ans5. The factoril of the given number is  720\n",
      "\n",
      "Ans 6.\n",
      "Enter the lower number: 2\n",
      "Enter the higher number: 15\n",
      "Enter the number you want to check: 13\n",
      "The given number is with the range\n",
      "\n",
      "Ans 7.\n",
      "Enter the numbers for the list: 1 2 3 4 5 6 7 8\n",
      "Even numbers from the given list is:  2 4 6 8 "
     ]
    }
   ],
   "source": [
    "#1\n",
    "list1=list(map(int,input(\"Enter the numbers for the list: \").split()))\n",
    "print(\"Ans1. Max number from the list is: \",max(list1))\n",
    "print()\n",
    "\n",
    "#2\n",
    "list2=list(map(int,input(\"Enter the numbers you want the sum for:  \").split()))\n",
    "print(\"Ans2. Sum of the numers is: \", sum(list2))\n",
    "print()\n",
    "\n",
    "\n",
    "#3\n",
    "mul=1\n",
    "list3=list(map(int,input(\"Enter the numbers you want the product for:  \").split()))\n",
    "for i in list3:\n",
    "    mul*=i\n",
    "print(\"Ans3. Multiplication of all numbers is \",mul)\n",
    "print()\n",
    "\n",
    "\n",
    "#4\n",
    "str1=input(\"enter the string: \")\n",
    "print(\"Ans4. The reverse of string\",str1,\"is:\",str1[::-1])\n",
    "print()\n",
    "\n",
    "#5\n",
    "print(\"Ans 5.\")\n",
    "def factorial(n):\n",
    "    if n==1 or n==0:\n",
    "        return 1\n",
    "    else:\n",
    "        return n*factorial(n-1)\n",
    "n=int(input(\"Enter the number you want the factorial of: \"))\n",
    "print(\"Ans5. The factoril of the given number is \", factorial(n))\n",
    "print()\n",
    "\n",
    "#6\n",
    "print(\"Ans 6.\")\n",
    "def checkRange(n,low,high):\n",
    "    \n",
    "    if n>low and n<high:\n",
    "        print(\"The given number is with the range\")\n",
    "    else:\n",
    "        print(\"The given number is out of range\")\n",
    "        \n",
    "        \n",
    "low=int(input(\"Enter the lower number: \"))\n",
    "high=int(input(\"Enter the higher number: \"))\n",
    "n=int(input(\"Enter the number you want to check: \"))\n",
    "checkRange(n,low,high)\n",
    "print()\n",
    "\n",
    "#7\n",
    "print(\"Ans 7.\")\n",
    "even=filter(lambda x: x%2==0,list(map(int,input(\"Enter the numbers for the list: \").split())))\n",
    "print(\"Even numbers from the given list is: \",end=\" \")\n",
    "for i in even:\n",
    "    print(i,end=\" \")"
   ]
  },
  {
   "cell_type": "code",
   "execution_count": null,
   "id": "7afc4198",
   "metadata": {},
   "outputs": [],
   "source": []
  }
 ],
 "metadata": {
  "kernelspec": {
   "display_name": "Python 3 (ipykernel)",
   "language": "python",
   "name": "python3"
  },
  "language_info": {
   "codemirror_mode": {
    "name": "ipython",
    "version": 3
   },
   "file_extension": ".py",
   "mimetype": "text/x-python",
   "name": "python",
   "nbconvert_exporter": "python",
   "pygments_lexer": "ipython3",
   "version": "3.9.7"
  }
 },
 "nbformat": 4,
 "nbformat_minor": 5
}
